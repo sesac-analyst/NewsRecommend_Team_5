{
 "cells": [
  {
   "cell_type": "code",
   "execution_count": 1,
   "metadata": {},
   "outputs": [],
   "source": [
    "import pandas as pd\n",
    "import os"
   ]
  },
  {
   "cell_type": "code",
   "execution_count": 2,
   "metadata": {},
   "outputs": [
    {
     "data": {
      "text/html": [
       "<div>\n",
       "<style scoped>\n",
       "    .dataframe tbody tr th:only-of-type {\n",
       "        vertical-align: middle;\n",
       "    }\n",
       "\n",
       "    .dataframe tbody tr th {\n",
       "        vertical-align: top;\n",
       "    }\n",
       "\n",
       "    .dataframe thead th {\n",
       "        text-align: right;\n",
       "    }\n",
       "</style>\n",
       "<table border=\"1\" class=\"dataframe\">\n",
       "  <thead>\n",
       "    <tr style=\"text-align: right;\">\n",
       "      <th></th>\n",
       "      <th>title</th>\n",
       "      <th>publisher</th>\n",
       "      <th>article_url</th>\n",
       "      <th>cmt_url</th>\n",
       "      <th>category2</th>\n",
       "      <th>publication_date</th>\n",
       "      <th>category1</th>\n",
       "    </tr>\n",
       "  </thead>\n",
       "  <tbody>\n",
       "    <tr>\n",
       "      <th>0</th>\n",
       "      <td>실적 부진 예상된 애플 시총 3조 달러 무너졌다</td>\n",
       "      <td>서울경제</td>\n",
       "      <td>https://n.news.naver.com/mnews/article/011/000...</td>\n",
       "      <td>https://n.news.naver.com/mnews/article/comment...</td>\n",
       "      <td>모바일</td>\n",
       "      <td>2023-08-05</td>\n",
       "      <td>IT</td>\n",
       "    </tr>\n",
       "    <tr>\n",
       "      <th>1</th>\n",
       "      <td>아이폰 하나로 '52조' 매출...600만대 더 판 삼성은?</td>\n",
       "      <td>머니투데이</td>\n",
       "      <td>https://n.news.naver.com/mnews/article/008/000...</td>\n",
       "      <td>https://n.news.naver.com/mnews/article/comment...</td>\n",
       "      <td>모바일</td>\n",
       "      <td>2023-08-05</td>\n",
       "      <td>IT</td>\n",
       "    </tr>\n",
       "    <tr>\n",
       "      <th>2</th>\n",
       "      <td>틱톡, 유럽에선 '맞춤형 추천' 끌 수 있게 한다</td>\n",
       "      <td>지디넷코리아</td>\n",
       "      <td>https://n.news.naver.com/mnews/article/092/000...</td>\n",
       "      <td>https://n.news.naver.com/mnews/article/comment...</td>\n",
       "      <td>모바일</td>\n",
       "      <td>2023-08-05</td>\n",
       "      <td>IT</td>\n",
       "    </tr>\n",
       "    <tr>\n",
       "      <th>3</th>\n",
       "      <td>\"난 스튜핏폰을 쓰고 있었네\"…갤럭시 100% 활용하는 '루틴'[토요리뷰]</td>\n",
       "      <td>뉴스1</td>\n",
       "      <td>https://n.news.naver.com/mnews/article/421/000...</td>\n",
       "      <td>https://n.news.naver.com/mnews/article/comment...</td>\n",
       "      <td>모바일</td>\n",
       "      <td>2023-08-05</td>\n",
       "      <td>IT</td>\n",
       "    </tr>\n",
       "    <tr>\n",
       "      <th>4</th>\n",
       "      <td>삼성 中 시장에 300만원 초호화폰 내놓는 속사정</td>\n",
       "      <td>뉴시스</td>\n",
       "      <td>https://n.news.naver.com/mnews/article/003/001...</td>\n",
       "      <td>https://n.news.naver.com/mnews/article/comment...</td>\n",
       "      <td>모바일</td>\n",
       "      <td>2023-08-05</td>\n",
       "      <td>IT</td>\n",
       "    </tr>\n",
       "    <tr>\n",
       "      <th>...</th>\n",
       "      <td>...</td>\n",
       "      <td>...</td>\n",
       "      <td>...</td>\n",
       "      <td>...</td>\n",
       "      <td>...</td>\n",
       "      <td>...</td>\n",
       "      <td>...</td>\n",
       "    </tr>\n",
       "    <tr>\n",
       "      <th>341061</th>\n",
       "      <td>[사이테크+] \"지구방어 충돌 실험 쌍소행성 나이는 1천250만년과 30만년\"</td>\n",
       "      <td>연합뉴스</td>\n",
       "      <td>https://n.news.naver.com/mnews/article/001/001...</td>\n",
       "      <td>https://n.news.naver.com/mnews/article/comment...</td>\n",
       "      <td>과학 일반</td>\n",
       "      <td>2024-07-31</td>\n",
       "      <td>IT</td>\n",
       "    </tr>\n",
       "    <tr>\n",
       "      <th>341062</th>\n",
       "      <td>\"1년 쉰다\" \"복귀 이유 없어\"…주요 대학병원, 전공의 지원자 '0명'</td>\n",
       "      <td>뉴스1</td>\n",
       "      <td>https://n.news.naver.com/mnews/article/421/000...</td>\n",
       "      <td>https://n.news.naver.com/mnews/article/comment...</td>\n",
       "      <td>과학 일반</td>\n",
       "      <td>2024-07-31</td>\n",
       "      <td>IT</td>\n",
       "    </tr>\n",
       "    <tr>\n",
       "      <th>341063</th>\n",
       "      <td>서울시, 中 충칭시와 바이오산업 협력 강화</td>\n",
       "      <td>동아일보</td>\n",
       "      <td>https://n.news.naver.com/mnews/article/020/000...</td>\n",
       "      <td>https://n.news.naver.com/mnews/article/comment...</td>\n",
       "      <td>과학 일반</td>\n",
       "      <td>2024-07-31</td>\n",
       "      <td>IT</td>\n",
       "    </tr>\n",
       "    <tr>\n",
       "      <th>341064</th>\n",
       "      <td>재킷 바꿔 입은 젠슨 황과 저커버그</td>\n",
       "      <td>조선일보</td>\n",
       "      <td>https://n.news.naver.com/mnews/article/023/000...</td>\n",
       "      <td>https://n.news.naver.com/mnews/article/comment...</td>\n",
       "      <td>과학 일반</td>\n",
       "      <td>2024-07-31</td>\n",
       "      <td>IT</td>\n",
       "    </tr>\n",
       "    <tr>\n",
       "      <th>341065</th>\n",
       "      <td>이광형 국가지식재산위원장</td>\n",
       "      <td>조선일보</td>\n",
       "      <td>https://n.news.naver.com/mnews/article/023/000...</td>\n",
       "      <td>https://n.news.naver.com/mnews/article/comment...</td>\n",
       "      <td>과학 일반</td>\n",
       "      <td>2024-07-31</td>\n",
       "      <td>IT</td>\n",
       "    </tr>\n",
       "  </tbody>\n",
       "</table>\n",
       "<p>341066 rows × 7 columns</p>\n",
       "</div>"
      ],
      "text/plain": [
       "                                              title publisher  \\\n",
       "0                        실적 부진 예상된 애플 시총 3조 달러 무너졌다      서울경제   \n",
       "1                 아이폰 하나로 '52조' 매출...600만대 더 판 삼성은?     머니투데이   \n",
       "2                       틱톡, 유럽에선 '맞춤형 추천' 끌 수 있게 한다    지디넷코리아   \n",
       "3         \"난 스튜핏폰을 쓰고 있었네\"…갤럭시 100% 활용하는 '루틴'[토요리뷰]       뉴스1   \n",
       "4                       삼성 中 시장에 300만원 초호화폰 내놓는 속사정       뉴시스   \n",
       "...                                             ...       ...   \n",
       "341061  [사이테크+] \"지구방어 충돌 실험 쌍소행성 나이는 1천250만년과 30만년\"      연합뉴스   \n",
       "341062     \"1년 쉰다\" \"복귀 이유 없어\"…주요 대학병원, 전공의 지원자 '0명'       뉴스1   \n",
       "341063                      서울시, 中 충칭시와 바이오산업 협력 강화      동아일보   \n",
       "341064                          재킷 바꿔 입은 젠슨 황과 저커버그      조선일보   \n",
       "341065                                이광형 국가지식재산위원장      조선일보   \n",
       "\n",
       "                                              article_url  \\\n",
       "0       https://n.news.naver.com/mnews/article/011/000...   \n",
       "1       https://n.news.naver.com/mnews/article/008/000...   \n",
       "2       https://n.news.naver.com/mnews/article/092/000...   \n",
       "3       https://n.news.naver.com/mnews/article/421/000...   \n",
       "4       https://n.news.naver.com/mnews/article/003/001...   \n",
       "...                                                   ...   \n",
       "341061  https://n.news.naver.com/mnews/article/001/001...   \n",
       "341062  https://n.news.naver.com/mnews/article/421/000...   \n",
       "341063  https://n.news.naver.com/mnews/article/020/000...   \n",
       "341064  https://n.news.naver.com/mnews/article/023/000...   \n",
       "341065  https://n.news.naver.com/mnews/article/023/000...   \n",
       "\n",
       "                                                  cmt_url category2  \\\n",
       "0       https://n.news.naver.com/mnews/article/comment...       모바일   \n",
       "1       https://n.news.naver.com/mnews/article/comment...       모바일   \n",
       "2       https://n.news.naver.com/mnews/article/comment...       모바일   \n",
       "3       https://n.news.naver.com/mnews/article/comment...       모바일   \n",
       "4       https://n.news.naver.com/mnews/article/comment...       모바일   \n",
       "...                                                   ...       ...   \n",
       "341061  https://n.news.naver.com/mnews/article/comment...     과학 일반   \n",
       "341062  https://n.news.naver.com/mnews/article/comment...     과학 일반   \n",
       "341063  https://n.news.naver.com/mnews/article/comment...     과학 일반   \n",
       "341064  https://n.news.naver.com/mnews/article/comment...     과학 일반   \n",
       "341065  https://n.news.naver.com/mnews/article/comment...     과학 일반   \n",
       "\n",
       "       publication_date category1  \n",
       "0            2023-08-05        IT  \n",
       "1            2023-08-05        IT  \n",
       "2            2023-08-05        IT  \n",
       "3            2023-08-05        IT  \n",
       "4            2023-08-05        IT  \n",
       "...                 ...       ...  \n",
       "341061       2024-07-31        IT  \n",
       "341062       2024-07-31        IT  \n",
       "341063       2024-07-31        IT  \n",
       "341064       2024-07-31        IT  \n",
       "341065       2024-07-31        IT  \n",
       "\n",
       "[341066 rows x 7 columns]"
      ]
     },
     "execution_count": 2,
     "metadata": {},
     "output_type": "execute_result"
    }
   ],
   "source": [
    "f_path = os.path.join(\"D:\\python_project\\sesac02\\data\", \"news_naver_IT_cleaned.csv\")\n",
    "df = pd.read_csv(f_path)\n",
    "df"
   ]
  },
  {
   "cell_type": "markdown",
   "metadata": {},
   "source": [
    "### 분포 확인"
   ]
  },
  {
   "cell_type": "code",
   "execution_count": null,
   "metadata": {},
   "outputs": [],
   "source": [
    "df.word_ctn.describe()"
   ]
  },
  {
   "cell_type": "code",
   "execution_count": null,
   "metadata": {},
   "outputs": [],
   "source": [
    "df.word_ctn.hist(bins=2000)"
   ]
  },
  {
   "cell_type": "code",
   "execution_count": null,
   "metadata": {},
   "outputs": [],
   "source": [
    "df.query('word_ctn > 500')"
   ]
  },
  {
   "cell_type": "markdown",
   "metadata": {},
   "source": [
    "### 테스트"
   ]
  },
  {
   "cell_type": "code",
   "execution_count": 3,
   "metadata": {},
   "outputs": [
    {
     "name": "stderr",
     "output_type": "stream",
     "text": [
      "c:\\Users\\jjkha\\anaconda3\\envs\\study\\lib\\site-packages\\sentence_transformers\\cross_encoder\\CrossEncoder.py:11: TqdmExperimentalWarning: Using `tqdm.autonotebook.tqdm` in notebook mode. Use `tqdm.tqdm` instead to force console mode (e.g. in jupyter console)\n",
      "  from tqdm.autonotebook import tqdm, trange\n"
     ]
    }
   ],
   "source": [
    "from sentence_transformers import SentenceTransformer"
   ]
  },
  {
   "cell_type": "code",
   "execution_count": 4,
   "metadata": {},
   "outputs": [],
   "source": [
    "from tqdm.autonotebook import tqdm, trange"
   ]
  },
  {
   "cell_type": "code",
   "execution_count": 5,
   "metadata": {},
   "outputs": [],
   "source": [
    "# Download from the 🤗 Hub\n",
    "model = SentenceTransformer(\"upskyy/e5-small-korean\")"
   ]
  },
  {
   "cell_type": "code",
   "execution_count": 6,
   "metadata": {},
   "outputs": [
    {
     "name": "stdout",
     "output_type": "stream",
     "text": [
      "(3, 384)\n",
      "torch.Size([3, 3])\n"
     ]
    }
   ],
   "source": [
    "# Run inference\n",
    "sentences = [\n",
    "    '아이를 가진 엄마가 해변을 걷는다.',\n",
    "    '두 사람이 해변을 걷는다.',\n",
    "    '한 남자가 해변에서 개를 산책시킨다.',\n",
    "]\n",
    "embeddings = model.encode(sentences)\n",
    "print(embeddings.shape)\n",
    "# [3, 384]\n",
    "\n",
    "# Get the similarity scores for the embeddings\n",
    "similarities = model.similarity(embeddings, embeddings)\n",
    "print(similarities.shape)\n",
    "# [3, 3]\n"
   ]
  },
  {
   "cell_type": "code",
   "execution_count": 7,
   "metadata": {},
   "outputs": [
    {
     "name": "stdout",
     "output_type": "stream",
     "text": [
      "(10, 384)\n",
      "torch.Size([10, 10])\n"
     ]
    }
   ],
   "source": [
    "# Run inference\n",
    "sentences = df.title[:10]\n",
    "embeddings = model.encode(sentences)\n",
    "print(embeddings.shape)\n",
    "\n",
    "# Get the similarity scores for the embeddings\n",
    "similarities = model.similarity(embeddings, embeddings)\n",
    "print(similarities.shape)\n"
   ]
  },
  {
   "cell_type": "code",
   "execution_count": 11,
   "metadata": {},
   "outputs": [
    {
     "name": "stdout",
     "output_type": "stream",
     "text": [
      "0 tensor(1.0000) 실적 부진 예상된 애플 시총 3조 달러 무너졌다\n",
      "1 tensor(0.1533) 아이폰 하나로 '52조' 매출...600만대 더 판 삼성은?\n",
      "2 tensor(0.0296) 틱톡, 유럽에선 '맞춤형 추천' 끌 수 있게 한다\n",
      "3 tensor(0.0663) \"난 스튜핏폰을 쓰고 있었네\"…갤럭시 100% 활용하는 '루틴'[토요리뷰]\n",
      "4 tensor(0.2147) 삼성 中 시장에 300만원 초호화폰 내놓는 속사정\n",
      "5 tensor(0.7667) 애플 주가 4.8% 폭락…시총 3조 달러 무너졌다\n",
      "6 tensor(0.1075) [써보니]무게·발열 줄였지만 카메라 화소는 그대로…갤Z폴드5\n",
      "7 tensor(0.2735) 아이폰 2억에 팔리더니..이번엔 뜯지 않은 '아이팟' 대박 났다 [글로벌 IT슈]\n",
      "8 tensor(0.1282) \"뉴진스, 한국인이 왜 아이폰 광고하나\" vs \"흥선대원군이냐\" [1일IT템]\n",
      "9 tensor(0.0807) \"강남 성형외과서 칼부림\" 살인예고 글 올린 20대 등 검거\n"
     ]
    }
   ],
   "source": [
    "e_list = sentences.to_list()\n",
    "\n",
    "for i, (s, t) in enumerate(zip(similarities[0], e_list)):\n",
    "    print(i, s, t)"
   ]
  },
  {
   "cell_type": "code",
   "execution_count": 12,
   "metadata": {},
   "outputs": [
    {
     "name": "stdout",
     "output_type": "stream",
     "text": [
      "(100, 384)\n",
      "torch.Size([100, 100])\n"
     ]
    }
   ],
   "source": [
    "# Run inference\n",
    "sentences = df.title[:100]\n",
    "embeddings = model.encode(sentences)\n",
    "print(embeddings.shape)\n",
    "\n",
    "# Get the similarity scores for the embeddings\n",
    "similarities = model.similarity(embeddings, embeddings)\n",
    "print(similarities.shape)\n"
   ]
  },
  {
   "cell_type": "code",
   "execution_count": 13,
   "metadata": {},
   "outputs": [
    {
     "name": "stdout",
     "output_type": "stream",
     "text": [
      "0 tensor(1.0000) 실적 부진 예상된 애플 시총 3조 달러 무너졌다\n",
      "1 tensor(0.1533) 아이폰 하나로 '52조' 매출...600만대 더 판 삼성은?\n",
      "2 tensor(0.0296) 틱톡, 유럽에선 '맞춤형 추천' 끌 수 있게 한다\n",
      "3 tensor(0.0663) \"난 스튜핏폰을 쓰고 있었네\"…갤럭시 100% 활용하는 '루틴'[토요리뷰]\n",
      "4 tensor(0.2147) 삼성 中 시장에 300만원 초호화폰 내놓는 속사정\n",
      "5 tensor(0.7667) 애플 주가 4.8% 폭락…시총 3조 달러 무너졌다\n",
      "6 tensor(0.1075) [써보니]무게·발열 줄였지만 카메라 화소는 그대로…갤Z폴드5\n",
      "7 tensor(0.2735) 아이폰 2억에 팔리더니..이번엔 뜯지 않은 '아이팟' 대박 났다 [글로벌 IT슈]\n",
      "8 tensor(0.1282) \"뉴진스, 한국인이 왜 아이폰 광고하나\" vs \"흥선대원군이냐\" [1일IT템]\n",
      "9 tensor(0.0807) \"강남 성형외과서 칼부림\" 살인예고 글 올린 20대 등 검거\n",
      "10 tensor(0.2098) 충남경찰, SNS에 살인예고 글 올린 고교생 검거…\"장난이었다\"\n",
      "11 tensor(0.1786) \"에버랜드서 사람 죽이겠다\"…'살인예고'한 자폐청소년 적발돼\n",
      "12 tensor(0.0692) 넥슨 ‘던전앤파이터’, 신규 대륙 ‘선계’ 온다\n",
      "13 tensor(0.2129) ‘2조원대’ 분기 매출 속 희비 갈린 네카오, 그래도 미래는 AI\n",
      "14 tensor(0.1596) \"자꾸 주변 살피게 돼\"…교사 피습·살인예고에 시민 불안 커져\n",
      "15 tensor(0.0847) “게임 내에서도 ‘괴롭힘’은 안돼”\n",
      "16 tensor(0.0154) 컴투스, '미니게임천국' 글로벌 100만 다운로드 돌파\n",
      "17 tensor(0.0787) 네이버, 중고차 시장에 관심?…손자회사 사업목적에 '자동차매매업' 추가\n",
      "18 tensor(0.1372) \"분당 영상 올리지 말자\"…모방범죄 우려 속 '자정' 목소리 커져\n",
      "19 tensor(0.1117) [툰설툰설] 폭염도 물리칠 ‘등골 오싹’ 공포물…스미공 VS 반향\n",
      "20 tensor(0.0474) [김정유의 웹툰파헤치기] 오싹한 일본산 미스터리물…리디 ‘야시’\n",
      "21 tensor(0.1124) [단독]네이버 ‘자사 AI 학습에 블로그-카페 글 이용’ 약관… 공정위, 불공정 여부 조사\n",
      "22 tensor(0.0142) [OTT레이더] 사극 로맨스로 돌아온 믿보배 남궁민의 ‘연인’\n",
      "23 tensor(0.0464) 정통 LG맨 김영섭 발탁, ‘관리의 KT’ 시대 열릴까?\n",
      "24 tensor(0.1149) ‘김영섭호 KT’ 닻 올릴까…주총까지 남은 과제는\n",
      "25 tensor(0.1429) KT 차기 사령탑 후보 김영섭 '주총' 통과할까...국민연금 표심 '변수'\n",
      "26 tensor(0.1338) [체험기] 강한 절삭력에 세척 기능까지… 브라운 면도기 ‘시리즈 9 프로 플러스’\n",
      "27 tensor(0.1041) 소니·닌텐도, 차세대 콘솔 개발 박차… “콘솔 게임 ‘대작’ 나올까” 기대감 솔솔\n",
      "28 tensor(0.0992) “요즘 20대는 이걸 30만원 주고 산다고?” 삼성도 놀랐다\n",
      "29 tensor(0.1482) “번화가서 10명 죽이겠다” 살인 예고 글 올린 40대 구속영장\n",
      "30 tensor(0.0304) 수자원공사, 잼버리 싱가포르 대표단에 숙식·교통 ‘전폭 지원’\n",
      "31 tensor(0.2688) “에어팟도 이렇게 돌돌 만다” 신기한 ‘애플팔찌’ 진짜 나오나?\n",
      "32 tensor(0.1382) AI와 만난 로봇, 미래는 어떤 모습일까요? MIT 교수의 대답은 [더테크웨이브]\n",
      "33 tensor(0.1509) Z플립5 직접 접었다 폈다 테스트…이번엔 몇 시간 갈까\n",
      "34 tensor(0.0503) “우리 아이 살려줬는데” 그 아이는 하늘나라…엄마는 웃지 못 했다\n",
      "35 tensor(0.1782) 첫 폰으로 삼성·LG전자 쓰던 Z세대 53%, 아이폰으로 갈아탔다\n",
      "36 tensor(0.2473) [써보니]삼성 갤럭시탭S9…물에 빠져도 된다, 방수·방진기능↑\n",
      "37 tensor(0.1143) 'LK-99 논문' 공동저자 \"초전도체 4가지 요건 충족했다\"\n",
      "38 tensor(0.1389) “여배우가 쓰는 것 처음 볼걸?” 한소희 손에 든 뜻밖에 ‘제품’…이러다 품절 사태?\n",
      "39 tensor(0.0902) 이용자 80% 급감한 스레드, 조만간 신기능 추가한다\n",
      "40 tensor(0.0864) 산후우울증 경구 치료제 미국서 첫 승인\n",
      "41 tensor(0.1488) \"국세청입니다, 세금 고지서 보냈습니다\"…클릭했다간 '날벼락'\n",
      "42 tensor(0.2224) '340톤' 고대 고래 발견…'가장 무거운 동물' 왕좌 바뀔까[사이언스 PICK]\n",
      "43 tensor(0.2217) 머스크, '가상자산 출시' 소문 일축…\"앞으로도 그럴 일 없어\"\n",
      "44 tensor(0.0464) 정통 LG맨 김영섭 발탁, ‘관리의 KT’ 시대 열릴까?\n",
      "45 tensor(0.2371) “더 이상 못 참아”…인공지능(AI)에 뿔난 미 할리우드 '장외투쟁'\n",
      "46 tensor(0.0525) “이게 제주도 바닷속이라니” 아무도 몰랐던 쓰레기판…이 정도일줄은 [지구, 뭐래?]\n",
      "47 tensor(0.0040) HD현대, 새만금 잼버리에 봉사단 120여명 파견\n",
      "48 tensor(0.0255) 네이버파이낸셜, 전국 11만3000여 공인중개사와 상생\n",
      "49 tensor(0.1123) [인턴 H가 간다]격주 4일 근무…전자책 회사의 친해지는 복지\n",
      "50 tensor(0.1125) \"업비트에 없는 코인 상장\"...중소거래소 생존법\n",
      "51 tensor(0.0518) 삼성, 잼버리에 '의료진·간이화장실·음료 20만개' 지원\n",
      "52 tensor(0.1623) 20년 결실? 2주 해프닝?…K-초전도체 'LK99' 진위 결말은\n",
      "53 tensor(0.1599) [어바웃 C]'CFO 겸직' 정철호 컴투스홀딩스 대표, '흑자 만들기' 집중\n",
      "54 tensor(0.1353) “무리하게 근육 키우다 무너진 몸, 달리기로 되살렸죠”[양종구의 100세 시대 건강법]\n",
      "55 tensor(0.1264) 극초음속 미사일 장착 시작하는 美 줌월트급 구축함 [최현호의 무기인사이드]\n",
      "56 tensor(0.2276) 네이버, 6개월 만에 현금 반토막…투자 여력 급감 [이코노 리포트]\n",
      "57 tensor(0.0682) 버스를 전철처럼 충전한다고? '이색 충전 서비스' 본격화\n",
      "58 tensor(0.3854) [애플 쇼크웨이브](25)인도, 아이폰 용 칩 생산 '희망 고문'\n",
      "59 tensor(0.0977) [인터뷰] \"직원이 회사 복귀 안한다고?\"…HP ‘하이브리드 근무’ 드라이브\n",
      "60 tensor(0.1456) LG컨소시엄, ‘니켈 부국’ 인니 양극재 공장 짓는다…포스코퓨처엠 주도 [소부장박대리]\n",
      "61 tensor(0.6712) 애플·아마존 '깜짝실적' 발표했지만 주가 엇갈려…애플 시총 3조달러 붕괴\n",
      "62 tensor(0.1869) 상온 초전도체 검증위 “현재까지 해외 검증 결과, 초전도성 입증 못 해”\n",
      "63 tensor(0.0781) [위클리 스마트] 대화형 AI로 고객센터 상담원 근속연수 늘까\n",
      "64 tensor(0.1888) “이용자가 올린 글 AI개발에 사용” 공정위,  네이버 약관 불공정 검토\n",
      "65 tensor(0.1706) 유튜브의 은밀한 요금 인상과 약탈의 서막 [추적+]\n",
      "66 tensor(0.0778) [1분건강] 파주서 ‘말라리아’ 모기 발견…긴옷 입고 모기기피제 꼭 쓰세요\n",
      "67 tensor(0.0663) \"난 스튜핏폰을 쓰고 있었네\"…갤럭시 100% 활용하는 '루틴'[토요리뷰]\n",
      "68 tensor(0.1868) AI가 노래했다…히트곡에 이제 필수? [창+]\n",
      "69 tensor(0.2147) 삼성 中 시장에 300만원 초호화폰 내놓는 속사정\n",
      "70 tensor(0.1466) 컨콜서 나란히 AI 외친 네카오…하반기 AI로 승부 [AI토피아]\n",
      "71 tensor(0.1135) AI 날개 단 커머스·콘텐츠, 네이버에 역대 최고 성적 안겼다\n",
      "72 tensor(0.1589) '에코프로 빅픽처' 퍼즐조각 맞춰간다\n",
      "73 tensor(0.1616) 경남도, 노인·장애인에 AI 스피커로 재난위험 알린다\n",
      "74 tensor(0.1225) 10만명 모인 웹3 개발자 커뮤니티 도라핵스…韓 커뮤니티 확장[인터뷰]\n",
      "75 tensor(0.1505) 잼버리 ‘곰팡이 달걀’ 제조업체, 자가품질검사도 안 해\n",
      "76 tensor(0.0739) 적십자, 잼버리 행사장에 재난회복지원차량 5대 투입\n",
      "77 tensor(0.1159) \"케이캡·수액·컨디션 삼각 편대\"…HK이노엔, 연 매출 1조 고지 '눈앞'\n",
      "78 tensor(0.0675) [진메디신 대해부]①“항암 바이러스 신약 및 벡터 CDMO로 승부”\n",
      "79 tensor(0.0555) [진메디신 대해부]②\"'계열 내 최초' 항암 아데노바이러스 신약개발\"\n",
      "80 tensor(0.1693) [진메디신 대해부]③“바이러스벡터 위탁개발생산 내년까지 150억원 매출 전망”\n",
      "81 tensor(0.6531) 애플 시총 하루새 209조 증발, 시총 3조달러도 붕괴(종합)\n",
      "82 tensor(0.0721) 넷마블문화재단, 넷마블 본사서 ‘임직원가족견학프로그램’ 개최\n",
      "83 tensor(0.2165) LK-99 공중부양, ‘마이스너 효과’ 맞을까…검증 전문가들 주목\n",
      "84 tensor(0.0114) 테이크원컴퍼니 '블랙핑크 더 게임', 공식 OST 패키지 예판 시작\n",
      "85 tensor(0.1010) 오일머니에 디파이 규제 혜택까지…네오핀, UAE서 블록체인 사업 올인\n",
      "86 tensor(0.1596) 반도체주 혼조, 필라델피아반도체지수 0.24%↓(상보)\n",
      "87 tensor(0.0783) 상온 초전도체 진위 논란 자초? 그들은 왜 스스로 레시피를 공개했나\n",
      "88 tensor(0.1208) ‘제2의 엔비디아’ AMD 이틀 연속 랠리, 오늘은 2.36%↑\n",
      "89 tensor(0.1304) Z플립 '접었다 폈다' 142시간?…가내수공업 테스트\n",
      "90 tensor(0.2022) 브랜드스토어와 도착보장, AI 추천 거래액 성장세 힘입어… 네이버 커머스 분기 거래액 12조원 육박\n",
      "91 tensor(0.1374) 구글, AI를 통한 동영상 요약 기술 개발중\n",
      "92 tensor(0.0757) 테슬라 2.11%-니콜라 26.36%-리비안 4.68%, 전기차 일제↓(종합)\n",
      "93 tensor(-0.0160) '우정잉·옐언니 보러 송도 왔어요'…크리에이터·팬 한 자리에\n",
      "94 tensor(0.1329) 니콜라 CEO 사임, 주가 26% 폭락한 2.50달러(상보)\n",
      "95 tensor(0.2220) '실적 호재' 아마존 8.27% 급등 마감(상보)\n",
      "96 tensor(0.7041) 실적 실망, 애플 4.8% 급락…시총 3조달러 붕괴(상보)\n",
      "97 tensor(0.2167) [초점] \"애플 '에어태그' 딱 기다려\"…실종자도 찾는 삼성 新무기 출시 임박\n",
      "98 tensor(0.1365) [NEWS ANALYSIS] Experts scrutinize if LK-99 superconductor claims are valid\n",
      "99 tensor(0.2276) 애플·아마존 모두 '깜짝실적'…그런데 주가는 다르게 반응했다, 왜 [팩플]\n"
     ]
    }
   ],
   "source": [
    "e_list = sentences.to_list()\n",
    "\n",
    "for i, (s, t) in enumerate(zip(similarities[0], e_list)):\n",
    "    print(i, s, t)"
   ]
  },
  {
   "cell_type": "code",
   "execution_count": 18,
   "metadata": {},
   "outputs": [],
   "source": [
    "new_en = \"\"\"The Venezuelan government has said opposition presidential candidate Edmundo González has left the country, seeking asylum in Spain.\n",
    "Mr González has been in hiding, and a warrant issued for his arrest after the opposition disputed July's presidential election result - in which the government-controlled National Electoral Council (CNE) declared Nicolás Maduro the winner.\n",
    "Venezuela's Vice-President Delcy Rodríguez said in a post on social media that after \"voluntarily\" seeking refuge at the Spanish embassy in Caracas some days ago, Mr Gonzalez asked the Spanish government for political asylum.\n",
    "She added that Caracas had agreed to his safe passage and that he had left.\n",
    "Spain's Minister of Foreign Affairs José Manuel Albares said Mr González had departed the country at his own request, and on a Spanish Air Force plane.\n",
    "He added that Spain's government was committed to the political rights of all Venezuelans.\n",
    "A lawyer for Mr González confirmed to AFP news agency he had left the country for Spain, but did not give any further detail.\n",
    "While he has departed, security forces in Venezuela have surrounded the Argentine embassy in the capital, Caracas.\n",
    "Six political opponents of President Maduro are sheltering there. The country's foreign ministry alleged that terrorist acts were being plotted inside.\n",
    "Venezuela has been in a political crisis since authorities declared President Maduro the victor of the 28 July election.\n",
    "The opposition claimed it had evidence Mr González had won by a comfortable margin, and uploaded detailed voting tallies to the internet which suggest Mr González beat Mr Maduro convincingly.\n",
    "A number of countries, including the United States, the European Union and several Latin American countries, have refused to recognize President Maduro as the winner without Caracas releasing detailed voting data.\n",
    "The government of President Maduro has detained more than 2,400 people since the election, creating what the UN has called \"a climate of fear\".\n",
    "Mr González had been in hiding since 30 July, fearing arrest following statements made by leading government politicians who said he should be \"behind bars\".\n",
    "The attorney general's office, which is closely aligned with the Maduro administration, has accused Mr González of conspiracy and of forging documents, among other \"serious crimes\".\n",
    "The 75-year-old had not been widely known before March this year, when the main opposition coalition registered him as its candidate.\n",
    "The opposition's original choice for presidential candidate had been the charismatic María Corina Machado, who had won an open primary with 93% of votes.\n",
    "But when her efforts to overturn a ban which barred her from running from public office were rebuffed by the government-controlled authorities, the opposition had to find an alternative candidate.\n",
    "After another opposition candidate was also barred, the opposition put forward Mr González's name.\n",
    "Fearing he too could be barred from running, the opposition kept Mr González in the background, while Ms Machado criss-crossed the country calling on people to vote for him.\n",
    "On election night, Mr González appeared side-by-side with María Corina Machado disputing the announcement by the CNE, which had declared Mr Maduro the winner with 52% of the votes.\n",
    "\"\"\"\n",
    "\n",
    "new_kr = \"\"\"(서울=연합뉴스) 김연숙 기자 = 베네수엘라에서 대선 조작 논란이 계속되는 가운데 니콜라스 마두로 현 대통령에 맞서온 야권 지도자 에드문도 우루티아 곤살레스(75)가 스페인 망명을 택했다.\n",
    "\n",
    "7일(현지시간) 미국 CNN 방송 등 외신에 따르면 델시 로드리게스 베네수엘라 부통령은 성명을 내고 \"카라카스에 있는 스페인 대사관에서 며칠간 자발적 난민으로 지내던 야당 당원 에드문도 곤살레스 우루티아가 조국을 떠나 그 정부에 정치적 망명을 요청했다\"고 밝혔다.\n",
    "\n",
    "로드리게스 부통령은 베네수엘라가 '조국의 평온함과 평화를 위해' 곤살레스의 출국을 허용했다고 말했다.\n",
    "\n",
    "호세 마누엘 알바레스 스페인 외무장관도 곤살레스가 '자신이 요청한 대로' 스페인 공군기로 스페인으로 날아왔다고 엑스(X·옛 트위터)에서 확인했다.\n",
    "\n",
    "그는 \"스페인 정부는 모든 베네수엘라인의 정치적 권리와 신체 보전을 약속한다\"고 적었다.\n",
    "\n",
    "곤살레스의 망명은 7월 28일 대선 이후 가장 최근 발생한 정치적 사건이라고 로이터통신은 전했다.\n",
    "\n",
    "친여당 성향의 베네수엘라 선거관리위원회는 투표 종료 6시간 만에 니콜라스 마두로 현 대통령의 3선 확정을 발표했다.\n",
    "\n",
    "그러나 이는 야권 후보로 출마한 곤살레스 득표율이 높다고 나타난 서방 조사기관의 출구조사 결과와 배치되는 데다, 선관위가 개표 참관을 거부하고 실시간 상황을 공개하지 않으면서 부정선거 의혹이 일었다.\n",
    "\n",
    "베네수엘라 전역에서 대선 결과에 항의하는 시위가 벌어졌고, 국제사회에서도 비판이 이어졌다.\n",
    "\n",
    "베네수엘라 법원은 곤살레스에 대해 권력찬탈, 정부 전복 음모, 문서 위조 등의 혐의로 검찰이 청구한 구속영장을 지난 2일 발부했다.\"\"\"\n"
   ]
  },
  {
   "cell_type": "code",
   "execution_count": 21,
   "metadata": {},
   "outputs": [],
   "source": [
    "trump_en = \"\"\"Donald Trump's sentencing in his Manhattan hush money criminal trial has been postponed until after the November election.\n",
    "Judge Juan Merchan on Friday delayed the sentencing to 26 November, citing \"the unique time frame this matter currently finds itself in\" among his reasons.\n",
    "Lawyers for Trump, the Republican presidential candidate, have used several legal manoeuvres to delay the sentencing, which had been scheduled for 18 September.\n",
    "A New York jury in May convicted Trump on 34 felony counts of falsifying business records, the first time a sitting or former president has been convicted of a crime.\n",
    "In his decision, Judge Merchan wrote that the case demands \"a sentencing hearing that is entirely focused on the verdict of the jury\".\n",
    "\"Their verdict must be respected and addressed in a manner that is not diluted by the enormity of the upcoming presidential election,\" he said, setting sentencing to exactly three weeks after the 5 November election.\n",
    "He said the delay was necessary \"to avoid any appearance - however unwarranted - that the proceeding has been affected by or seeks to affect the approaching presidential election in which the Defendant is a candidate”.\n",
    "“The Court is a fair, impartial and apolitical institution,” the judge continued.\n",
    "Trump could face a sentence of up to four years in prison, but Judge Merchan also has the discretion to impose a punishment of a fine, probation or a shorter jail term.\n",
    "Prosecutors in the case accused the former president of concealing a payment to buy the silence of Stormy Daniels, a former adult-film star, in the final days of his 2016 election campaign.\n",
    "Ms Daniels testified that she and Trump had sex, and that she accepted $130,000 (£99,000) from his former lawyer before the 2016 election in exchange to keep quiet about the encounter.\n",
    "Prosecutors argued that, by approving a scheme to disguise the money as legal expenses, Trump broke the law.\n",
    "A jury found him guilty on all counts.\n",
    "Trump's original sentencing date was in July. His lawyers delayed that after a US Supreme Court ruling that granted presidents some immunity from criminal prosecution for \"official acts\".\n",
    "Judge Merchan granted a delay so that the parties could prepare arguments on the effects of the Supreme Court ruling on his case.\n",
    "A decision on the implications will come on 12 November.\n",
    "Judge Merchan has already dismissed some arguments made by Trump's lawyers to delay as \"unsubstantiated grievances... that do not merit this Court's attention\".\n",
    "But he wrote that sentencing hearings are routinely delayed in other cases for reasons like personal circumstances or scheduling conflicts.\n",
    "\"Given the unique facts and circumstances of this case, there is no reason why this Defendant should be treated differently than any other,\" Judge Merchan said.\n",
    "He added that his decision to delay \"should dispel any suggestion\" that the court would have made a decision that would be seen in support of \"any political party or any candidate for any office\".\n",
    "Trump has maintained that he did nothing wrong. He told Fox News after the ruling that the \"case should be dead\".\n",
    "On his social media platform Truth Social, the former president re-iterated his claims of innocence, dismissing the case as a \"witch hunt\" and a \"political attack\".\n",
    "\"This case should be rightfully terminated, as we prepare for the Most Important Election in the History of our Country,\" he wrote.\n",
    "A spokesperson for Alvin Bragg, the Manhattan district attorney whose office brought the charges, said his team was \"ready for sentencing on the new date set by the court\".\n",
    "If Trump is re-elected US president, he could order the Justice Department to drop the ongoing federal cases against him.\n",
    "However, this case in New York - as well as the election interference case in Georgia - involved state charges, and a president would not have the authority to interfere.\"\"\"\n",
    "\n",
    "trump_ko = \"\"\"(서울=뉴스1) 정지윤 기자 = 미국 공화당 대선 후보인 도널드 트럼프 전 대통령이 7일(현지시간) 위스콘신주 유세에서 전례 없는 대규모 관세 부과와 강력한 이민자 단속을 약속했다. 자신의 핵심 지지 기반인 노동자들과 시골 백인의 지지를 공고히 하려는 시도다.\n",
    "\n",
    "로이터통신에 따르면 이날 트럼프 전 대통령은 인구 약 4500명의 마을 모시니에서 진행한 유세 연설에서 유럽연합(EU)과 같은 동맹국들마저도 자신이 대선에서 승리하면 새로운 무역 제한에 직면할 것이라고 말했다.\n",
    "\n",
    "이날 트럼프 전 대통령은 달러를 사용하지 않으려는 국가에 대해 대규모 관세를 부과하겠다고 말했다. 그는 \"달러를 쓰지 않고 미국과 거래하지 않는다면, 이 국가 제품엔 100% 관세를 부과할 것\"이라고 밝혔다.\n",
    "\n",
    "블룸버그통신은 트럼프 전 대통령과 그의 경제 참모들은 지난 수개월간, 달러 외 통화로 양자 무역을 적극 추진하려는 동맹국들 혹은 적국에 불이익을 주는 방법을 논의해 왔다고 소개했다.\n",
    "\n",
    "통신은 익명의 소식통을 인용해 이같이 전하면서, 방법으로는 수출 통제와 환율 조작 혐의 부과, 관세 등이 있다고 덧붙였다.\n",
    "\n",
    "오랫동안 보호주의 무역 정책 지지 입장을 밝혀온 트럼프 전 대통령은 달러가 지난 8년 동안 \"포위 공격\"을 받고 있다\"면서 자신은 달러가 세계의 기축 통화로 남아있길 원한다고 강조했다.\n",
    "\n",
    "실제로 중국과 인도, 브라질, 러시아, 남아프리카공화국은 지난해 정상 회담에서 탈달러화에 대해 논의했다.\n",
    "\n",
    "국제통화기금(IMF)에 따르면 지난 수십 년 동안 달러의 지배력은 감소했는데, 2024년 1분기에 미국 달러는 공식 외화보유액의 59%를 차지했고, 유로화는 거의 20%로 두 번째를 차지했다.\n",
    "\n",
    "또한 이날 트럼프 전 대통령은 이민자들은 위스콘신에 심각한 위험이라고 재차 강조하면서 \"범죄는 하늘을 찌르고 있지만 여러분들은 아직 이민자 범죄를 보지 못했다\"고 말했다. 이어 \"범죄는 시작됐고, 악랄하지만, 아직 그 정도를 보지 못했다\"고 덧붙였다.\n",
    "\n",
    "AFP통신에 따르면 이날 트럼프 전 대통령은 또한 조 바이든 대통령과 해리스 부통령 하에서 \"당신의 정부는 살인자와 아동 흉악범, 연쇄 강간범을 전세계에서 데려왔고, 정치 반대 세력을 감옥에 보내기 위해 법 집행 기관을 무기화했다\"고 주장했다.\n",
    "\n",
    "카멀라 해리스 부통령이 조 바이든 대통령으로부터 민주당 대선 후보 바통을 넘겨받은 뒤 트럼프 전 대통령에 대한 지지는 거의 모든 인구 집단에서 약화했다.\n",
    "\n",
    "지난 8월 로이터/입소스 여론조사에 따르면 히스패닉에서 해리스 부통령은 트럼프 전 대통령에게 13%포인트(p) 앞선다. 지난 5월 민주당 후보가 바이든 대통령이었을 땐 우위는 5%p에 불과했다. 흑인 유권자들 사이에서 해리스 후보는 바이든 대통령과 비교해 7%p 앞선다.\n",
    "\n",
    "하지만 해리스 후는 백인 유권자들 사이에선 지지율을 끌어올리지 못하고 있다. 대학 학위가 없는 백인 집단에서 트럼프 전 대통령의 지지율은 해리스 후보에 25% 앞선다.\n",
    "\n",
    "로이터통신에 따르면 트럼프 전 대통령 참모들은 해리스 후보를 이기려면 현재의 지지율 격차를 유지하면서, 백인 노동자 유권자들의 투표율을 높이는 것이 중요하다고 말해왔다.\n",
    "\n",
    "통신은 위스콘신을 포함한 북부 '러스트 벨트' 지역에선 이 전략이 먹혔다면서, 트럼프 전 대통령은 2016년 선거에서 이 지역에 산업 일자리를 다시 가져오겠다고 약속함으로써 이들 주에서 승리했고, 이 승리는 대선 승리에 크게 기여했다고 지적했다.\"\"\""
   ]
  },
  {
   "cell_type": "code",
   "execution_count": 22,
   "metadata": {},
   "outputs": [
    {
     "name": "stdout",
     "output_type": "stream",
     "text": [
      "(4, 384)\n",
      "torch.Size([4, 4])\n"
     ]
    },
    {
     "data": {
      "text/plain": [
       "tensor([[1.0000, 0.4312, 0.4353, 0.1893],\n",
       "        [0.4312, 1.0000, 0.2763, 0.3679],\n",
       "        [0.4353, 0.2763, 1.0000, 0.3124],\n",
       "        [0.1893, 0.3679, 0.3124, 1.0000]])"
      ]
     },
     "execution_count": 22,
     "metadata": {},
     "output_type": "execute_result"
    }
   ],
   "source": [
    "# Run inference\n",
    "sentences = [new_en, new_kr, trump_en, trump_ko]\n",
    "embeddings = model.encode(sentences)\n",
    "print(embeddings.shape)\n",
    "\n",
    "# Get the similarity scores for the embeddings\n",
    "similarities = model.similarity(embeddings, embeddings)\n",
    "print(similarities.shape)\n",
    "\n",
    "similarities"
   ]
  }
 ],
 "metadata": {
  "kernelspec": {
   "display_name": "nlp",
   "language": "python",
   "name": "python3"
  },
  "language_info": {
   "codemirror_mode": {
    "name": "ipython",
    "version": 3
   },
   "file_extension": ".py",
   "mimetype": "text/x-python",
   "name": "python",
   "nbconvert_exporter": "python",
   "pygments_lexer": "ipython3",
   "version": "3.9.19"
  }
 },
 "nbformat": 4,
 "nbformat_minor": 2
}

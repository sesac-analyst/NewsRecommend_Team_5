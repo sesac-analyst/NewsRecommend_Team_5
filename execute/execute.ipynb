{
 "cells": [
  {
   "cell_type": "code",
   "execution_count": null,
   "metadata": {},
   "outputs": [],
   "source": []
  },
  {
   "cell_type": "markdown",
   "metadata": {},
   "source": [
    "문서 내용 -> 임베딩 되어있다고 가정\n",
    "\n",
    "<1안>\n",
    "Input: Target article-url\n",
    "\n",
    "1. 날짜 구간으로 문서들 filtering\n",
    "2. sector가 같은 것 중에 top5 가져오기\n",
    "3. sector가 다른 것 중에 top5 가져오기\n",
    "\n",
    "Output: List[List, List]\n",
    "\n",
    "\n",
    "<2안>\n",
    "1. sector가 같은 것 중에 top5 가져오기\n",
    "2. sector가 다른 것 중에 top5 가져오기\n",
    "3. 사전에 DB에 유사한 문서 기록한 후 저장 (To DB)\n",
    "\n",
    "Input: Target article-url\n",
    "Output: List[List, List]"
   ]
  }
 ],
 "metadata": {
  "kernelspec": {
   "display_name": "study",
   "language": "python",
   "name": "python3"
  },
  "language_info": {
   "name": "python",
   "version": "3.9.19"
  }
 },
 "nbformat": 4,
 "nbformat_minor": 2
}

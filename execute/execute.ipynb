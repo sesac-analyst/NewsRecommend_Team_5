{
 "cells": [
  {
   "cell_type": "code",
   "execution_count": null,
   "metadata": {},
   "outputs": [],
   "source": []
  },
  {
   "cell_type": "markdown",
   "metadata": {},
   "source": [
    "문서 내용 -> 임베딩 되어있다고 가정\n",
    "\n",
    "1. sector가 같은 것 중에 top5 가져오기\n",
    "2. sector가 다른 것 중에 top5 가져오기\n",
    "3. 사전에 DB에 유사한 문서 기록한 후 저장 (To DB)\n",
    "\n",
    "Input: Target article-url\n",
    "Output: List[List, List]"
   ]
  },
  {
   "cell_type": "code",
   "execution_count": 1,
   "metadata": {},
   "outputs": [],
   "source": [
    "import pandas as pd\n",
    "import os"
   ]
  },
  {
   "cell_type": "code",
   "execution_count": 10,
   "metadata": {},
   "outputs": [
    {
     "data": {
      "text/html": [
       "<div>\n",
       "<style scoped>\n",
       "    .dataframe tbody tr th:only-of-type {\n",
       "        vertical-align: middle;\n",
       "    }\n",
       "\n",
       "    .dataframe tbody tr th {\n",
       "        vertical-align: top;\n",
       "    }\n",
       "\n",
       "    .dataframe thead th {\n",
       "        text-align: right;\n",
       "    }\n",
       "</style>\n",
       "<table border=\"1\" class=\"dataframe\">\n",
       "  <thead>\n",
       "    <tr style=\"text-align: right;\">\n",
       "      <th></th>\n",
       "      <th>article_url</th>\n",
       "      <th>reg_date</th>\n",
       "      <th>vector</th>\n",
       "      <th>sector</th>\n",
       "    </tr>\n",
       "  </thead>\n",
       "  <tbody>\n",
       "    <tr>\n",
       "      <th>0</th>\n",
       "      <td>https://aa.com</td>\n",
       "      <td>2024-09-10</td>\n",
       "      <td>[1, 2, 3, 4]</td>\n",
       "      <td>IT</td>\n",
       "    </tr>\n",
       "    <tr>\n",
       "      <th>1</th>\n",
       "      <td>https://xb.com</td>\n",
       "      <td>2024-09-08</td>\n",
       "      <td>[2, 1, 4, 3]</td>\n",
       "      <td>economy</td>\n",
       "    </tr>\n",
       "    <tr>\n",
       "      <th>2</th>\n",
       "      <td>https://bc.com</td>\n",
       "      <td>2024-09-06</td>\n",
       "      <td>[2, 1, 3, 3]</td>\n",
       "      <td>IT</td>\n",
       "    </tr>\n",
       "    <tr>\n",
       "      <th>3</th>\n",
       "      <td>https://bd.com</td>\n",
       "      <td>2024-089-08</td>\n",
       "      <td>[1, 1, 1, 1]</td>\n",
       "      <td>economy</td>\n",
       "    </tr>\n",
       "  </tbody>\n",
       "</table>\n",
       "</div>"
      ],
      "text/plain": [
       "      article_url     reg_date        vector   sector\n",
       "0  https://aa.com   2024-09-10  [1, 2, 3, 4]       IT\n",
       "1  https://xb.com   2024-09-08  [2, 1, 4, 3]  economy\n",
       "2  https://bc.com   2024-09-06  [2, 1, 3, 3]       IT\n",
       "3  https://bd.com  2024-089-08  [1, 1, 1, 1]  economy"
      ]
     },
     "execution_count": 10,
     "metadata": {},
     "output_type": "execute_result"
    }
   ],
   "source": [
    "sample = [['https://aa.com', '2024-09-10', '[1, 2, 3, 4]', 'IT'], ['https://xb.com', '2024-09-08', '[2, 1, 4, 3]', 'economy'], ['https://bc.com', '2024-09-06', '[2, 1, 3, 3]', 'IT'], ['https://bd.com', '2024-089-08', '[1, 1, 1, 1]', 'economy']]\n",
    "df = pd.DataFrame(sample, columns=['article_url', 'reg_date', 'vector', 'sector'])\n",
    "df"
   ]
  },
  {
   "cell_type": "code",
   "execution_count": null,
   "metadata": {},
   "outputs": [],
   "source": []
  },
  {
   "cell_type": "code",
   "execution_count": 16,
   "metadata": {},
   "outputs": [
    {
     "data": {
      "text/plain": [
       "article_url    https://xb.com\n",
       "reg_date           2024-09-08\n",
       "vector           [2, 1, 4, 3]\n",
       "sector                economy\n",
       "Name: 1, dtype: object"
      ]
     },
     "execution_count": 16,
     "metadata": {},
     "output_type": "execute_result"
    }
   ],
   "source": [
    "target_url = 'https://xb.com'\n",
    "article = df[df['article_url'] == target_url].iloc[0]\n",
    "article"
   ]
  },
  {
   "cell_type": "code",
   "execution_count": 21,
   "metadata": {},
   "outputs": [
    {
     "data": {
      "text/plain": [
       "'2024-09-08'"
      ]
     },
     "execution_count": 21,
     "metadata": {},
     "output_type": "execute_result"
    }
   ],
   "source": [
    "# Get Date Range\n",
    "std_date = article['reg_date']\n",
    "std_date"
   ]
  },
  {
   "cell_type": "code",
   "execution_count": 30,
   "metadata": {},
   "outputs": [
    {
     "data": {
      "text/plain": [
       "('2024-08-08', '2024-10-08')"
      ]
     },
     "execution_count": 30,
     "metadata": {},
     "output_type": "execute_result"
    }
   ],
   "source": [
    "# 최근 1개월\n",
    "st_date = pd.to_datetime(std_date, format=r'%Y-%m-%d') - pd.offsets.DateOffset(months=1)\n",
    "st_date = st_date.strftime(r'%Y-%m-%d')\n",
    "end_date = pd.to_datetime(std_date, format=r'%Y-%m-%d') + pd.offsets.DateOffset(months=1)\n",
    "end_date = end_date.strftime(r'%Y-%m-%d')\n",
    "\n",
    "st_date, end_date"
   ]
  },
  {
   "cell_type": "code",
   "execution_count": null,
   "metadata": {},
   "outputs": [],
   "source": [
    "class Article():\n",
    "    def __init__(self, article_url):\n",
    "        \n",
    "        return"
   ]
  }
 ],
 "metadata": {
  "kernelspec": {
   "display_name": "study",
   "language": "python",
   "name": "python3"
  },
  "language_info": {
   "codemirror_mode": {
    "name": "ipython",
    "version": 3
   },
   "file_extension": ".py",
   "mimetype": "text/x-python",
   "name": "python",
   "nbconvert_exporter": "python",
   "pygments_lexer": "ipython3",
   "version": "3.9.19"
  }
 },
 "nbformat": 4,
 "nbformat_minor": 2
}

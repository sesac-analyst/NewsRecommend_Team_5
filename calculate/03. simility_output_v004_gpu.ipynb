{
 "cells": [
  {
   "cell_type": "code",
   "execution_count": 1,
   "metadata": {},
   "outputs": [],
   "source": [
    "# import pandas as pd\n",
    "# import numpy as np\n",
    "# import ast\n",
    "# import re\n",
    "# from sklearn.metrics.pairwise import cosine_similarity\n",
    "# from tqdm import tqdm\n",
    "# tqdm.pandas()"
   ]
  },
  {
   "cell_type": "code",
   "execution_count": 2,
   "metadata": {},
   "outputs": [],
   "source": [
    "# open_path = './data/0f. vector_date_data_.csv'\n",
    "# vector_df = pd.read_csv(open_path)"
   ]
  },
  {
   "cell_type": "code",
   "execution_count": 3,
   "metadata": {},
   "outputs": [],
   "source": [
    "# .csv로 읽었을때 사용\n",
    "# def preprocess_vector_string(vector_string):\n",
    "#     try:\n",
    "#         # 벡터 문자열 양 끝 공백 제거\n",
    "#         vector_string = vector_string.strip()\n",
    "\n",
    "#         # 실수 형식의 값만 추출 (양수, 음수, 소수점, 지수 표현 모두 포함)\n",
    "#         numbers = re.findall(r'-?\\d+\\.?\\d*(?:e[+-]?\\d+)?', vector_string)\n",
    "        \n",
    "#         # 추출된 숫자 리스트를 쉼표로 구분된 문자열로 변환 (숫자 사이에 쉼표를 넣음)\n",
    "#         clean_vector_string = ', '.join(numbers)\n",
    "        \n",
    "#         # 변환된 문자열을 numpy 배열로 변환\n",
    "#         return np.array(ast.literal_eval(f'[{clean_vector_string}]'))\n",
    "#     except Exception as e:\n",
    "#         print(f\"Error processing vector: {vector_string}, Error: {e}\")\n",
    "#         # 오류 발생 시 0으로 채워진 768차원 벡터 반환\n",
    "#         return np.zeros(768)"
   ]
  },
  {
   "cell_type": "code",
   "execution_count": 4,
   "metadata": {},
   "outputs": [
    {
     "name": "stderr",
     "output_type": "stream",
     "text": [
      "100%|██████████| 262695/262695 [11:09<00:00, 392.30it/s]\n"
     ]
    }
   ],
   "source": [
    "# vector_df['vector'] = vector_df['vector'].progress_apply(preprocess_vector_string)"
   ]
  },
  {
   "cell_type": "code",
   "execution_count": 6,
   "metadata": {},
   "outputs": [],
   "source": [
    "# save_path = './data/0f. vector_date_data_pre.csv'\n",
    "# vector_df.to_pickle(save_path)"
   ]
  },
  {
   "cell_type": "code",
   "execution_count": 1,
   "metadata": {},
   "outputs": [],
   "source": [
    "import numpy as np\n",
    "import pandas as pd\n",
    "import torch\n",
    "from sklearn.metrics.pairwise import cosine_similarity\n",
    "import datetime\n",
    "from tqdm import tqdm\n",
    "tqdm.pandas()\n"
   ]
  },
  {
   "cell_type": "code",
   "execution_count": 2,
   "metadata": {},
   "outputs": [],
   "source": [
    "open_path = './data/0f. vector_date_data_pre.csv'\n",
    "vector_df = pd.read_pickle(open_path)"
   ]
  },
  {
   "cell_type": "code",
   "execution_count": 3,
   "metadata": {},
   "outputs": [],
   "source": [
    "# 월 필터링\n",
    "vector_df['publication_date'] = pd.to_datetime(vector_df['publication_date'])\n",
    "month_df = vector_df[(vector_df['publication_date'].dt.year == 2024) &\n",
    "                            (vector_df['publication_date'].dt.month == 7)]"
   ]
  },
  {
   "cell_type": "code",
   "execution_count": 4,
   "metadata": {},
   "outputs": [
    {
     "name": "stdout",
     "output_type": "stream",
     "text": [
      "<class 'pandas.core.frame.DataFrame'>\n",
      "RangeIndex: 262695 entries, 0 to 262694\n",
      "Data columns (total 4 columns):\n",
      " #   Column            Non-Null Count   Dtype         \n",
      "---  ------            --------------   -----         \n",
      " 0   tag               262695 non-null  object        \n",
      " 1   vector            262695 non-null  object        \n",
      " 2   article_url       262695 non-null  object        \n",
      " 3   publication_date  262695 non-null  datetime64[ns]\n",
      "dtypes: datetime64[ns](1), object(3)\n",
      "memory usage: 8.0+ MB\n"
     ]
    }
   ],
   "source": [
    "vector_df.info()"
   ]
  },
  {
   "cell_type": "code",
   "execution_count": 5,
   "metadata": {},
   "outputs": [
    {
     "name": "stdout",
     "output_type": "stream",
     "text": [
      "<class 'pandas.core.frame.DataFrame'>\n",
      "Index: 90334 entries, 0 to 90333\n",
      "Data columns (total 4 columns):\n",
      " #   Column            Non-Null Count  Dtype         \n",
      "---  ------            --------------  -----         \n",
      " 0   tag               90334 non-null  object        \n",
      " 1   vector            90334 non-null  object        \n",
      " 2   article_url       90334 non-null  object        \n",
      " 3   publication_date  90334 non-null  datetime64[ns]\n",
      "dtypes: datetime64[ns](1), object(3)\n",
      "memory usage: 3.4+ MB\n"
     ]
    }
   ],
   "source": [
    "month_df.info()"
   ]
  },
  {
   "cell_type": "code",
   "execution_count": 6,
   "metadata": {},
   "outputs": [
    {
     "name": "stderr",
     "output_type": "stream",
     "text": [
      "100%|██████████| 262695/262695 [00:00<00:00, 1472914.71it/s]\n",
      "100%|██████████| 262695/262695 [00:00<00:00, 1799085.11it/s]\n"
     ]
    }
   ],
   "source": [
    "vector_df['site'] = vector_df['article_url'].progress_apply(lambda url: 'naver' if 'naver' in url else ('daum' if 'daum' in url else 'other'))\n",
    "vector_df['sector'] = vector_df['site'].progress_apply(lambda site: 'IT' if site == 'naver' else ('Economy' if site == 'daum' else 'Empty'))"
   ]
  },
  {
   "cell_type": "code",
   "execution_count": 7,
   "metadata": {},
   "outputs": [
    {
     "name": "stdout",
     "output_type": "stream",
     "text": [
      "<class 'pandas.core.frame.DataFrame'>\n",
      "RangeIndex: 262695 entries, 0 to 262694\n",
      "Data columns (total 6 columns):\n",
      " #   Column            Non-Null Count   Dtype         \n",
      "---  ------            --------------   -----         \n",
      " 0   tag               262695 non-null  object        \n",
      " 1   vector            262695 non-null  object        \n",
      " 2   article_url       262695 non-null  object        \n",
      " 3   publication_date  262695 non-null  datetime64[ns]\n",
      " 4   site              262695 non-null  object        \n",
      " 5   sector            262695 non-null  object        \n",
      "dtypes: datetime64[ns](1), object(5)\n",
      "memory usage: 12.0+ MB\n"
     ]
    }
   ],
   "source": [
    "vector_df.info()"
   ]
  },
  {
   "cell_type": "code",
   "execution_count": null,
   "metadata": {},
   "outputs": [],
   "source": [
    "# gpu 메세지 표시\n",
    "# 현재 3개월치 중에 1/3 만 처리 적용\n",
    "def to_gpu(tensor):\n",
    "    return tensor.cuda()\n",
    "\n",
    "# 처리할 샘플의 개수 설정\n",
    "total_samples = len(vector_df['vector'][:87565])\n",
    "count = 0   # 카운트\n",
    "step = 100  # 몇 개마다 진행 상황을 표시할지 설정\n",
    "\n",
    "results = []\n",
    "\n",
    "# 벡터들을 GPU로 전송\n",
    "vectors = torch.tensor(np.stack(vector_df['vector'].values)).cuda()\n",
    "\n",
    "# 모든 벡터에 대해 반복\n",
    "for i in range(total_samples):\n",
    "    sample_vector = vectors[i].unsqueeze(0)  # 차원을 맞추기 위해 unsqueeze(0) 적용\n",
    "\n",
    "    similarity_scores = torch.cosine_similarity(sample_vector, vectors, dim=1)\n",
    "\n",
    "    # 자기 자신 1입력\n",
    "    similarity_scores[i] = -1\n",
    "\n",
    "    # CPU로 데이터 변환 (필요한 경우)\n",
    "    similarity_scores = similarity_scores.cpu().numpy()\n",
    "\n",
    "    # 'naver'가 포함된 사이트 필터링 및 상위 5개 선택\n",
    "    naver_sim = pd.Series(similarity_scores, index=vector_df['article_url'])\n",
    "    n_sim_dict = naver_sim[naver_sim.index.str.contains('naver')].nlargest(5).to_dict()\n",
    "\n",
    "    # 'daum'이 포함된 사이트 필터링 및 상위 5개 선택\n",
    "    daum_sim = pd.Series(similarity_scores, index=vector_df['article_url'])\n",
    "    d_sim_dict = daum_sim[daum_sim.index.str.contains('daum')].nlargest(5).to_dict()\n",
    "\n",
    "    # 각 벡터에 대한 결과 저장\n",
    "    results.append({\n",
    "        'article_url': vector_df['article_url'].iloc[i],\n",
    "        'site': vector_df['site'].iloc[i],\n",
    "        'sector': vector_df['sector'].iloc[i],\n",
    "        'publication_date': vector_df['publication_date'].iloc[i],\n",
    "        'n_sim': n_sim_dict,\n",
    "        'd_sim': d_sim_dict\n",
    "    })\n",
    "\n",
    "    # 카운트 증가\n",
    "    count += 1\n",
    "    if count % step == 0:\n",
    "        print(f\"{count}/{total_samples} 작업 완료\")\n",
    "\n",
    "# 결과를 DataFrame으로 변환\n",
    "final_df = pd.DataFrame(results)\n",
    "\n",
    "# 결과 확인\n",
    "print(final_df.head())\n"
   ]
  },
  {
   "cell_type": "code",
   "execution_count": 7,
   "metadata": {},
   "outputs": [],
   "source": [
    "final_df.to_csv('./data/1f. simility_data_3m-1.csv')"
   ]
  },
  {
   "cell_type": "code",
   "execution_count": null,
   "metadata": {},
   "outputs": [],
   "source": []
  }
 ],
 "metadata": {
  "kernelspec": {
   "display_name": "week4",
   "language": "python",
   "name": "python3"
  },
  "language_info": {
   "codemirror_mode": {
    "name": "ipython",
    "version": 3
   },
   "file_extension": ".py",
   "mimetype": "text/x-python",
   "name": "python",
   "nbconvert_exporter": "python",
   "pygments_lexer": "ipython3",
   "version": "3.11.9"
  }
 },
 "nbformat": 4,
 "nbformat_minor": 2
}

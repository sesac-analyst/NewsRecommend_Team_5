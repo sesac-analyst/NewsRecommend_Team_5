{
 "cells": [
  {
   "cell_type": "code",
   "execution_count": 1,
   "metadata": {},
   "outputs": [],
   "source": [
    "import pandas as pd\n",
    "import os"
   ]
  },
  {
   "cell_type": "code",
   "execution_count": 31,
   "metadata": {},
   "outputs": [],
   "source": [
    "import re"
   ]
  },
  {
   "cell_type": "code",
   "execution_count": 16,
   "metadata": {},
   "outputs": [],
   "source": [
    "import csv"
   ]
  },
  {
   "cell_type": "code",
   "execution_count": 55,
   "metadata": {},
   "outputs": [],
   "source": [
    "import re"
   ]
  },
  {
   "cell_type": "code",
   "execution_count": 2,
   "metadata": {},
   "outputs": [],
   "source": [
    "f_path = os.path.join(\"D:\\python_project\\sesac02\\data\", \"news_naver_IT_contents.csv\")"
   ]
  },
  {
   "cell_type": "code",
   "execution_count": null,
   "metadata": {},
   "outputs": [],
   "source": [
    "s_path = os.path.join(\"D:\\python_project\\sesac02\\data\", \"news_naver_IT_contents(cleaned).csv\")"
   ]
  },
  {
   "cell_type": "code",
   "execution_count": 17,
   "metadata": {},
   "outputs": [],
   "source": [
    "# 데이터를 열고 다시 저장하는 코드 예시\n",
    "with open(f_path, 'r', encoding='utf-8', errors='replace') as f:\n",
    "    reader = csv.reader(f)\n",
    "    rows = list(reader)  # 데이터를 읽어와서 리스트로 저장"
   ]
  },
  {
   "cell_type": "code",
   "execution_count": 53,
   "metadata": {},
   "outputs": [
    {
     "data": {
      "text/plain": [
       "74"
      ]
     },
     "execution_count": 53,
     "metadata": {},
     "output_type": "execute_result"
    }
   ],
   "source": [
    "cnt"
   ]
  },
  {
   "cell_type": "code",
   "execution_count": 60,
   "metadata": {},
   "outputs": [],
   "source": [
    "cleaned_rows = [row for row in rows if len(row) == 7]"
   ]
  },
  {
   "cell_type": "code",
   "execution_count": 61,
   "metadata": {},
   "outputs": [],
   "source": [
    "# 새로운 CSV 파일로 저장\n",
    "with open(s_path, 'w', newline='', encoding='utf-8') as f:\n",
    "    writer = csv.writer(f, quoting=csv.QUOTE_MINIMAL)  # 쉼표가 있는 값을 따옴표로 감싸줌\n",
    "    writer.writerows(cleaned_rows)"
   ]
  },
  {
   "cell_type": "code",
   "execution_count": 64,
   "metadata": {},
   "outputs": [
    {
     "data": {
      "text/html": [
       "<div>\n",
       "<style scoped>\n",
       "    .dataframe tbody tr th:only-of-type {\n",
       "        vertical-align: middle;\n",
       "    }\n",
       "\n",
       "    .dataframe tbody tr th {\n",
       "        vertical-align: top;\n",
       "    }\n",
       "\n",
       "    .dataframe thead th {\n",
       "        text-align: right;\n",
       "    }\n",
       "</style>\n",
       "<table border=\"1\" class=\"dataframe\">\n",
       "  <thead>\n",
       "    <tr style=\"text-align: right;\">\n",
       "      <th></th>\n",
       "      <th>article_url</th>\n",
       "      <th>title</th>\n",
       "      <th>reg_date</th>\n",
       "      <th>publisher</th>\n",
       "      <th>author</th>\n",
       "      <th>sub_title</th>\n",
       "      <th>content</th>\n",
       "    </tr>\n",
       "  </thead>\n",
       "  <tbody>\n",
       "    <tr>\n",
       "      <th>0</th>\n",
       "      <td>https://n.news.naver.com/mnews/article/003/001...</td>\n",
       "      <td>삼성 中 시장에 300만원 초호화폰 내놓는 속사정</td>\n",
       "      <td>2023.08.05.</td>\n",
       "      <td>뉴시스</td>\n",
       "      <td>윤현성</td>\n",
       "      <td>삼성, '심계천하' 시리즈 신작 10월 출시 전망…300만원 육박할 듯 고가 프리미...</td>\n",
       "      <td>지난해 10월 중국 시장에 출시된 삼성전자 심계천하 'W23 5G'와 'W23 플립...</td>\n",
       "    </tr>\n",
       "    <tr>\n",
       "      <th>1</th>\n",
       "      <td>https://n.news.naver.com/mnews/article/092/000...</td>\n",
       "      <td>애플 주가 4.8% 폭락…시총 3조 달러 무너졌다</td>\n",
       "      <td>2023.08.05.</td>\n",
       "      <td>지디넷코리아</td>\n",
       "      <td>김익현</td>\n",
       "      <td>아이폰 등 HW매출 부진 실망감…올들어 최대 낙폭</td>\n",
       "      <td>애플 주가가 지난 해 9월 말 이후 가장 큰 폭으로 하락했다. 그 여파로 시가총액도...</td>\n",
       "    </tr>\n",
       "    <tr>\n",
       "      <th>2</th>\n",
       "      <td>https://n.news.naver.com/mnews/article/421/000...</td>\n",
       "      <td>\"난 스튜핏폰을 쓰고 있었네\"…갤럭시 100% 활용하는 '루틴'[토요리뷰]</td>\n",
       "      <td>2023.08.05.</td>\n",
       "      <td>뉴스1</td>\n",
       "      <td>손엄지</td>\n",
       "      <td>설정한 회사 주소 인근에 도착했을 때 자동 무음 모드 아침엔 모닝콜 대신 빅스비로 ...</td>\n",
       "      <td>(삼성전자 제공) \\n\\n(삼성전자 제공) (서울=뉴스1) 손엄지 기자 = 갤럭시의...</td>\n",
       "    </tr>\n",
       "    <tr>\n",
       "      <th>3</th>\n",
       "      <td>https://n.news.naver.com/mnews/article/008/000...</td>\n",
       "      <td>아이폰 하나로 '52조' 매출...600만대 더 판 삼성은?</td>\n",
       "      <td>2023.08.05.</td>\n",
       "      <td>머니투데이</td>\n",
       "      <td>김승한</td>\n",
       "      <td>애플 아이폰 매출 약 52조...삼성폰은 26조 애플 판매량 적지만...고가 전략 ...</td>\n",
       "      <td>애플이 올해 2분기 아이폰에서만 50조원이 넘는 매출을 냈다. 삼성전자 스마트폰 사...</td>\n",
       "    </tr>\n",
       "    <tr>\n",
       "      <th>4</th>\n",
       "      <td>https://n.news.naver.com/mnews/article/092/000...</td>\n",
       "      <td>틱톡, 유럽에선 '맞춤형 추천' 끌 수 있게 한다</td>\n",
       "      <td>2023.08.05.</td>\n",
       "      <td>지디넷코리아</td>\n",
       "      <td>김익현</td>\n",
       "      <td>'디지털서비스법' 준수 위해…미성년자엔 타깃광고 적용 않기로</td>\n",
       "      <td>유럽 틱톡 이용자들은 개인화된 추천 기능을 끌 수 있게 될 전망이다. 틱톡이 유럽연...</td>\n",
       "    </tr>\n",
       "    <tr>\n",
       "      <th>...</th>\n",
       "      <td>...</td>\n",
       "      <td>...</td>\n",
       "      <td>...</td>\n",
       "      <td>...</td>\n",
       "      <td>...</td>\n",
       "      <td>...</td>\n",
       "      <td>...</td>\n",
       "    </tr>\n",
       "    <tr>\n",
       "      <th>292444</th>\n",
       "      <td>https://n.news.naver.com/mnews/article/421/000...</td>\n",
       "      <td>[100세건강] 골절까지 부르는 '폐암'…항암 복병 '뼈 전이 합병증'</td>\n",
       "      <td>2024.07.31.</td>\n",
       "      <td>뉴스1</td>\n",
       "      <td>강승지</td>\n",
       "      <td>8월1일, 세계 폐암의 날…골전이 흔해 뼈 건강 관리 필수 진단 동시 골 표적 치료...</td>\n",
       "      <td>ⓒ News1 DB (서울=뉴스1) 강승지 기자 = 매년 8월 1일은 '세계 폐암의...</td>\n",
       "    </tr>\n",
       "    <tr>\n",
       "      <th>292445</th>\n",
       "      <td>https://n.news.naver.com/mnews/article/001/001...</td>\n",
       "      <td>[사이테크+] \"지구방어 충돌 실험 쌍소행성 나이는 1천250만년과 30만년\"</td>\n",
       "      <td>2024.07.31.</td>\n",
       "      <td>연합뉴스</td>\n",
       "      <td>이주영</td>\n",
       "      <td>NaN</td>\n",
       "      <td>국제 연구팀, 쌍(雙)소행성 궤도수정 실험 분석 5개 논문 공개  (서울=연합뉴스)...</td>\n",
       "    </tr>\n",
       "    <tr>\n",
       "      <th>292446</th>\n",
       "      <td>https://n.news.naver.com/mnews/article/014/000...</td>\n",
       "      <td>'꿈의 탈모 치료제' 탄생하나?..몸에서 저절로 생긴 '설탕'의 놀라운 효과 [헬스톡]</td>\n",
       "      <td>2024.07.31.</td>\n",
       "      <td>파이낸셜뉴스</td>\n",
       "      <td>문영진</td>\n",
       "      <td>NaN</td>\n",
       "      <td>자료사진. 게티이미지뱅크   [파이낸셜뉴스] 우리 몸에서 자연적으로 생성되는 단당류...</td>\n",
       "    </tr>\n",
       "    <tr>\n",
       "      <th>292447</th>\n",
       "      <td>https://n.news.naver.com/mnews/article/421/000...</td>\n",
       "      <td>\"1년 쉰다\" \"복귀 이유 없어\"…주요 대학병원, 전공의 지원자 '0명'</td>\n",
       "      <td>2024.07.31.</td>\n",
       "      <td>뉴스1</td>\n",
       "      <td>김규빈</td>\n",
       "      <td>하반기 모집 오늘 마감…정부 \"추가 지원책은 없다\" 개원, 해외취업 관심…의협 연수...</td>\n",
       "      <td>정부의 의대 정원 확대에 반발하며 의료계의 집단행동이 이어지고 있는 30일 오전 서...</td>\n",
       "    </tr>\n",
       "    <tr>\n",
       "      <th>292448</th>\n",
       "      <td>https://n.news.naver.com/mnews/article/020/000...</td>\n",
       "      <td>서울시, 中 충칭시와 바이오산업 협력 강화</td>\n",
       "      <td>2024.07.31.</td>\n",
       "      <td>동아일보</td>\n",
       "      <td>전혜진</td>\n",
       "      <td>오세훈 시장, 충칭과학단지 방문 “홍릉 허브 거점으로 성장동력 마련”</td>\n",
       "      <td>서울시가 29일(현지 시간) 바이오산업 협력 강화를 위해 중국 충칭시 양강생명과기성...</td>\n",
       "    </tr>\n",
       "  </tbody>\n",
       "</table>\n",
       "<p>292449 rows × 7 columns</p>\n",
       "</div>"
      ],
      "text/plain": [
       "                                              article_url  \\\n",
       "0       https://n.news.naver.com/mnews/article/003/001...   \n",
       "1       https://n.news.naver.com/mnews/article/092/000...   \n",
       "2       https://n.news.naver.com/mnews/article/421/000...   \n",
       "3       https://n.news.naver.com/mnews/article/008/000...   \n",
       "4       https://n.news.naver.com/mnews/article/092/000...   \n",
       "...                                                   ...   \n",
       "292444  https://n.news.naver.com/mnews/article/421/000...   \n",
       "292445  https://n.news.naver.com/mnews/article/001/001...   \n",
       "292446  https://n.news.naver.com/mnews/article/014/000...   \n",
       "292447  https://n.news.naver.com/mnews/article/421/000...   \n",
       "292448  https://n.news.naver.com/mnews/article/020/000...   \n",
       "\n",
       "                                                   title     reg_date  \\\n",
       "0                            삼성 中 시장에 300만원 초호화폰 내놓는 속사정  2023.08.05.   \n",
       "1                            애플 주가 4.8% 폭락…시총 3조 달러 무너졌다  2023.08.05.   \n",
       "2              \"난 스튜핏폰을 쓰고 있었네\"…갤럭시 100% 활용하는 '루틴'[토요리뷰]  2023.08.05.   \n",
       "3                      아이폰 하나로 '52조' 매출...600만대 더 판 삼성은?  2023.08.05.   \n",
       "4                            틱톡, 유럽에선 '맞춤형 추천' 끌 수 있게 한다  2023.08.05.   \n",
       "...                                                  ...          ...   \n",
       "292444           [100세건강] 골절까지 부르는 '폐암'…항암 복병 '뼈 전이 합병증'  2024.07.31.   \n",
       "292445       [사이테크+] \"지구방어 충돌 실험 쌍소행성 나이는 1천250만년과 30만년\"  2024.07.31.   \n",
       "292446  '꿈의 탈모 치료제' 탄생하나?..몸에서 저절로 생긴 '설탕'의 놀라운 효과 [헬스톡]  2024.07.31.   \n",
       "292447          \"1년 쉰다\" \"복귀 이유 없어\"…주요 대학병원, 전공의 지원자 '0명'  2024.07.31.   \n",
       "292448                           서울시, 中 충칭시와 바이오산업 협력 강화  2024.07.31.   \n",
       "\n",
       "       publisher author                                          sub_title  \\\n",
       "0            뉴시스    윤현성  삼성, '심계천하' 시리즈 신작 10월 출시 전망…300만원 육박할 듯 고가 프리미...   \n",
       "1         지디넷코리아    김익현                        아이폰 등 HW매출 부진 실망감…올들어 최대 낙폭   \n",
       "2            뉴스1    손엄지  설정한 회사 주소 인근에 도착했을 때 자동 무음 모드 아침엔 모닝콜 대신 빅스비로 ...   \n",
       "3          머니투데이    김승한  애플 아이폰 매출 약 52조...삼성폰은 26조 애플 판매량 적지만...고가 전략 ...   \n",
       "4         지디넷코리아    김익현                  '디지털서비스법' 준수 위해…미성년자엔 타깃광고 적용 않기로   \n",
       "...          ...    ...                                                ...   \n",
       "292444       뉴스1    강승지  8월1일, 세계 폐암의 날…골전이 흔해 뼈 건강 관리 필수 진단 동시 골 표적 치료...   \n",
       "292445      연합뉴스    이주영                                                NaN   \n",
       "292446    파이낸셜뉴스    문영진                                                NaN   \n",
       "292447       뉴스1    김규빈  하반기 모집 오늘 마감…정부 \"추가 지원책은 없다\" 개원, 해외취업 관심…의협 연수...   \n",
       "292448      동아일보    전혜진             오세훈 시장, 충칭과학단지 방문 “홍릉 허브 거점으로 성장동력 마련”   \n",
       "\n",
       "                                                  content  \n",
       "0       지난해 10월 중국 시장에 출시된 삼성전자 심계천하 'W23 5G'와 'W23 플립...  \n",
       "1       애플 주가가 지난 해 9월 말 이후 가장 큰 폭으로 하락했다. 그 여파로 시가총액도...  \n",
       "2       (삼성전자 제공) \\n\\n(삼성전자 제공) (서울=뉴스1) 손엄지 기자 = 갤럭시의...  \n",
       "3       애플이 올해 2분기 아이폰에서만 50조원이 넘는 매출을 냈다. 삼성전자 스마트폰 사...  \n",
       "4       유럽 틱톡 이용자들은 개인화된 추천 기능을 끌 수 있게 될 전망이다. 틱톡이 유럽연...  \n",
       "...                                                   ...  \n",
       "292444  ⓒ News1 DB (서울=뉴스1) 강승지 기자 = 매년 8월 1일은 '세계 폐암의...  \n",
       "292445  국제 연구팀, 쌍(雙)소행성 궤도수정 실험 분석 5개 논문 공개  (서울=연합뉴스)...  \n",
       "292446  자료사진. 게티이미지뱅크   [파이낸셜뉴스] 우리 몸에서 자연적으로 생성되는 단당류...  \n",
       "292447  정부의 의대 정원 확대에 반발하며 의료계의 집단행동이 이어지고 있는 30일 오전 서...  \n",
       "292448  서울시가 29일(현지 시간) 바이오산업 협력 강화를 위해 중국 충칭시 양강생명과기성...  \n",
       "\n",
       "[292449 rows x 7 columns]"
      ]
     },
     "execution_count": 64,
     "metadata": {},
     "output_type": "execute_result"
    }
   ],
   "source": [
    "df = pd.read_csv(s_path)\n",
    "df"
   ]
  }
 ],
 "metadata": {
  "kernelspec": {
   "display_name": "study",
   "language": "python",
   "name": "python3"
  },
  "language_info": {
   "codemirror_mode": {
    "name": "ipython",
    "version": 3
   },
   "file_extension": ".py",
   "mimetype": "text/x-python",
   "name": "python",
   "nbconvert_exporter": "python",
   "pygments_lexer": "ipython3",
   "version": "3.9.19"
  }
 },
 "nbformat": 4,
 "nbformat_minor": 2
}

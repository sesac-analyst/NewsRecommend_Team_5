{
 "cells": [
  {
   "cell_type": "code",
   "execution_count": 1,
   "metadata": {},
   "outputs": [],
   "source": [
    "import pandas as pd\n",
    "import numpy as np\n",
    "import re"
   ]
  },
  {
   "cell_type": "code",
   "execution_count": 2,
   "metadata": {},
   "outputs": [],
   "source": [
    "open_path = './news_data.csv'\n",
    "\n",
    "df = pd.read_csv(open_path)"
   ]
  },
  {
   "cell_type": "code",
   "execution_count": 3,
   "metadata": {},
   "outputs": [
    {
     "name": "stdout",
     "output_type": "stream",
     "text": [
      "<class 'pandas.core.frame.DataFrame'>\n",
      "RangeIndex: 5624 entries, 0 to 5623\n",
      "Data columns (total 7 columns):\n",
      " #   Column    Non-Null Count  Dtype \n",
      "---  ------    --------------  ----- \n",
      " 0   title     5624 non-null   object\n",
      " 1   category  5624 non-null   object\n",
      " 2   url       5624 non-null   object\n",
      " 3   date      5624 non-null   int64 \n",
      " 4   press     5624 non-null   object\n",
      " 5   reporter  5621 non-null   object\n",
      " 6   content   5588 non-null   object\n",
      "dtypes: int64(1), object(6)\n",
      "memory usage: 307.7+ KB\n"
     ]
    }
   ],
   "source": [
    "copy_df = df.copy()\n",
    "copy_df.info()"
   ]
  },
  {
   "cell_type": "code",
   "execution_count": 4,
   "metadata": {},
   "outputs": [],
   "source": [
    "# 결측치 제거\n",
    "copy_df.drop_duplicates(subset='url', keep='first', inplace=True)\n",
    "copy_df.drop_duplicates(subset='title', keep='first', inplace=True)\n",
    "copy_df.drop_duplicates(subset='content', keep='first', inplace=True)\n",
    "copy_df.dropna(subset=['content'], inplace=True)\n",
    "\n",
    "# 문장내 <>, [], 구문 제거(앞뒤 공백 제거 포함)\n",
    "copy_df['clear_str'] = copy_df['content'].apply(lambda x: re.sub(r'<.*?>', '', x))\n",
    "copy_df['clear_str'] = copy_df['clear_str'].apply(lambda x: re.sub(r'\\[.*?\\]', '', x))\n",
    "copy_df['clear_str'] = copy_df['clear_str'].apply(lambda x: x.strip())"
   ]
  },
  {
   "cell_type": "code",
   "execution_count": 5,
   "metadata": {},
   "outputs": [],
   "source": [
    "# 단어별 처리 함수\n",
    "def process_words(words, del_words, stopwords):\n",
    "        processed_words=[]\n",
    "        for word in words:\n",
    "            if word == '기자':\n",
    "                if processed_words:\n",
    "                    processed_words.pop()\n",
    "                continue\n",
    "            \n",
    "            if any(del_word in word for del_word in del_words):\n",
    "                continue\n",
    "\n",
    "            if '@' in word:\n",
    "                continue\n",
    "            # word = re.sub(r'\\d+','', word)\n",
    "            word = re.sub(r'[^\\w\\s.]','', word)\n",
    "            \n",
    "            if re.search('[a-zA-Z]', word):\n",
    "                word = word.lower()\n",
    "            \n",
    "            for stopword in stopwords:\n",
    "                if word.endswith(stopword):\n",
    "                    word = word[:-len(stopword)]\n",
    "            \n",
    "            if len(word) <= 1:\n",
    "                continue\n",
    "                    \n",
    "            if word:\n",
    "                processed_words.append(word)\n",
    "        return processed_words"
   ]
  },
  {
   "cell_type": "code",
   "execution_count": 6,
   "metadata": {},
   "outputs": [],
   "source": [
    "# 정리 단어들 목록\n",
    "press_name = copy_df['press'].unique()\n",
    "stopword = ['기자', 'com', '.co', '저작권', '무단', '전재', '재배포', 'Copyr', 'copyr', '경향비즈'\n",
    "        '영상', '취재', '편집', '문의', '금지', '특파원', '아이뉴스', '한경', '뉴스', '보도합니다']"
   ]
  },
  {
   "cell_type": "code",
   "execution_count": 7,
   "metadata": {},
   "outputs": [],
   "source": [
    "# 단어로 정리\n",
    "copy_df['split_word'] = copy_df['clear_str'].str.split()\n",
    "copy_df['processed_words'] = copy_df['split_word'].apply(lambda words: process_words(words, press_name, stopword))\n",
    "# 단어 수 저장\n",
    "copy_df['word_ctn'] = copy_df['processed_words'].apply(len)"
   ]
  },
  {
   "cell_type": "code",
   "execution_count": 8,
   "metadata": {},
   "outputs": [],
   "source": [
    "# 문장 만들기\n",
    "copy_df['clear_sentence'] = copy_df['processed_words'].apply(lambda words: ' '.join(words))\n",
    "# 문장 수 저장\n",
    "copy_df['letter_ctn'] = copy_df['clear_sentence'].apply(len)\n",
    "copy_df['clear_sentence_split'] = copy_df['clear_sentence'].apply(lambda sentence: re.split(r'(?<!\\d)\\.(?!\\d)', sentence))\n",
    "copy_df['sentence_ctn'] =  copy_df['clear_sentence_split'].apply(len)"
   ]
  },
  {
   "cell_type": "code",
   "execution_count": 9,
   "metadata": {},
   "outputs": [],
   "source": [
    "# 공백란 제거 추가\n",
    "copy_df = copy_df[copy_df['content'].str.strip().astype(bool)]"
   ]
  },
  {
   "cell_type": "code",
   "execution_count": 10,
   "metadata": {},
   "outputs": [],
   "source": [
    "# 고유 id 만들기 함수\n",
    "def make_tag_id(url):\n",
    "    if 'daum' in url:\n",
    "        sent_id = f'd{url.split(\"/\")[-1][4:]}'\n",
    "    elif 'naver' in url:\n",
    "        sent_id = f'n{url.split(\"/\")[-2]}{url.split(\"/\")[-1]}'\n",
    "\n",
    "    return sent_id"
   ]
  },
  {
   "cell_type": "code",
   "execution_count": 11,
   "metadata": {},
   "outputs": [],
   "source": [
    "# 고유 id 데이터프레임 추가\n",
    "copy_df['tag'] = df['url'].apply(make_tag_id)"
   ]
  },
  {
   "cell_type": "code",
   "execution_count": 12,
   "metadata": {},
   "outputs": [],
   "source": [
    "save_path = './preprocessed_news_data.csv'\n",
    "copy_df[['tag','date','url','letter_ctn', 'word_ctn', 'sentence_ctn', 'clear_sentence_split']].to_csv(save_path, index=False, encoding='utf-8-sig')"
   ]
  },
  {
   "cell_type": "code",
   "execution_count": null,
   "metadata": {},
   "outputs": [],
   "source": []
  }
 ],
 "metadata": {
  "kernelspec": {
   "display_name": "week4",
   "language": "python",
   "name": "python3"
  },
  "language_info": {
   "codemirror_mode": {
    "name": "ipython",
    "version": 3
   },
   "file_extension": ".py",
   "mimetype": "text/x-python",
   "name": "python",
   "nbconvert_exporter": "python",
   "pygments_lexer": "ipython3",
   "version": "3.11.9"
  }
 },
 "nbformat": 4,
 "nbformat_minor": 2
}
